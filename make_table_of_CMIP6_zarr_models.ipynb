{
 "cells": [
  {
   "cell_type": "markdown",
   "id": "7231b46b-7dbc-4e8a-ba33-f631643f7f1b",
   "metadata": {},
   "source": [
    "# Make a table of all models, members available from Google Cloud CMIP6 zarr collection"
   ]
  },
  {
   "cell_type": "code",
   "execution_count": 1,
   "id": "5123411b-6128-4faa-a50a-bb3bdbfac91e",
   "metadata": {},
   "outputs": [],
   "source": [
    "import pandas as pd\n",
    "from file_control import model_table_dir"
   ]
  },
  {
   "cell_type": "code",
   "execution_count": null,
   "id": "4a829cd3-9b9a-46f4-8642-c2f6262736ef",
   "metadata": {},
   "outputs": [],
   "source": [
    "# Set output filename\n",
    "outfile = model_table_dir + 'all_zarr_models.csv'"
   ]
  },
  {
   "cell_type": "code",
   "execution_count": 2,
   "id": "d8483d4a-d6c8-4bb4-bff2-e04d8ae1ffe6",
   "metadata": {},
   "outputs": [],
   "source": [
    "# import the CMIP6 zarr table\n",
    "df = pd.read_csv('https://storage.googleapis.com/cmip6/' + \n",
    "                 'cmip6-zarr-consolidated-stores.csv')\n"
   ]
  },
  {
   "cell_type": "code",
   "execution_count": 3,
   "id": "2e49bd26-1b3e-4454-8fb2-f18a9e2849b2",
   "metadata": {},
   "outputs": [
    {
     "data": {
      "text/html": [
       "<div>\n",
       "<style scoped>\n",
       "    .dataframe tbody tr th:only-of-type {\n",
       "        vertical-align: middle;\n",
       "    }\n",
       "\n",
       "    .dataframe tbody tr th {\n",
       "        vertical-align: top;\n",
       "    }\n",
       "\n",
       "    .dataframe thead th {\n",
       "        text-align: right;\n",
       "    }\n",
       "</style>\n",
       "<table border=\"1\" class=\"dataframe\">\n",
       "  <thead>\n",
       "    <tr style=\"text-align: right;\">\n",
       "      <th></th>\n",
       "      <th>model</th>\n",
       "      <th>institution</th>\n",
       "      <th>member</th>\n",
       "    </tr>\n",
       "  </thead>\n",
       "  <tbody>\n",
       "    <tr>\n",
       "      <th>0</th>\n",
       "      <td>GFDL-CM4</td>\n",
       "      <td>NOAA-GFDL</td>\n",
       "      <td>r1i1p1f1</td>\n",
       "    </tr>\n",
       "    <tr>\n",
       "      <th>1</th>\n",
       "      <td>GFDL-CM4</td>\n",
       "      <td>NOAA-GFDL</td>\n",
       "      <td>r1i1p1f1</td>\n",
       "    </tr>\n",
       "    <tr>\n",
       "      <th>2</th>\n",
       "      <td>GFDL-ESM4</td>\n",
       "      <td>NOAA-GFDL</td>\n",
       "      <td>r1i1p1f1</td>\n",
       "    </tr>\n",
       "    <tr>\n",
       "      <th>3</th>\n",
       "      <td>GFDL-ESM4</td>\n",
       "      <td>NOAA-GFDL</td>\n",
       "      <td>r3i1p1f1</td>\n",
       "    </tr>\n",
       "    <tr>\n",
       "      <th>4</th>\n",
       "      <td>GFDL-ESM4</td>\n",
       "      <td>NOAA-GFDL</td>\n",
       "      <td>r2i1p1f1</td>\n",
       "    </tr>\n",
       "    <tr>\n",
       "      <th>...</th>\n",
       "      <td>...</td>\n",
       "      <td>...</td>\n",
       "      <td>...</td>\n",
       "    </tr>\n",
       "    <tr>\n",
       "      <th>1725</th>\n",
       "      <td>MIROC6</td>\n",
       "      <td>MIROC</td>\n",
       "      <td>r40i1p1f1</td>\n",
       "    </tr>\n",
       "    <tr>\n",
       "      <th>1726</th>\n",
       "      <td>MIROC6</td>\n",
       "      <td>MIROC</td>\n",
       "      <td>r41i1p1f1</td>\n",
       "    </tr>\n",
       "    <tr>\n",
       "      <th>1727</th>\n",
       "      <td>MIROC6</td>\n",
       "      <td>MIROC</td>\n",
       "      <td>r27i1p1f1</td>\n",
       "    </tr>\n",
       "    <tr>\n",
       "      <th>1728</th>\n",
       "      <td>MIROC6</td>\n",
       "      <td>MIROC</td>\n",
       "      <td>r50i1p1f1</td>\n",
       "    </tr>\n",
       "    <tr>\n",
       "      <th>1729</th>\n",
       "      <td>MIROC6</td>\n",
       "      <td>MIROC</td>\n",
       "      <td>r29i1p1f1</td>\n",
       "    </tr>\n",
       "  </tbody>\n",
       "</table>\n",
       "<p>1730 rows × 3 columns</p>\n",
       "</div>"
      ],
      "text/plain": [
       "          model institution     member\n",
       "0      GFDL-CM4   NOAA-GFDL   r1i1p1f1\n",
       "1      GFDL-CM4   NOAA-GFDL   r1i1p1f1\n",
       "2     GFDL-ESM4   NOAA-GFDL   r1i1p1f1\n",
       "3     GFDL-ESM4   NOAA-GFDL   r3i1p1f1\n",
       "4     GFDL-ESM4   NOAA-GFDL   r2i1p1f1\n",
       "...         ...         ...        ...\n",
       "1725     MIROC6       MIROC  r40i1p1f1\n",
       "1726     MIROC6       MIROC  r41i1p1f1\n",
       "1727     MIROC6       MIROC  r27i1p1f1\n",
       "1728     MIROC6       MIROC  r50i1p1f1\n",
       "1729     MIROC6       MIROC  r29i1p1f1\n",
       "\n",
       "[1730 rows x 3 columns]"
      ]
     },
     "execution_count": 3,
     "metadata": {},
     "output_type": "execute_result"
    }
   ],
   "source": [
    "# find instances that have tas and are in the scenariomip group\n",
    "df_zarr = df.query(\"table_id == 'Amon' and variable_id == 'tas' and \" + \n",
    "                   \"activity_id == 'ScenarioMIP'\")\n",
    "\n",
    "# reformat to match the other tables that are used to grab CMIP6 data \n",
    "# (e.g. home/abbylute/alute_bucket/warming_levels_by_model.csv)\n",
    "df_zarr = df_zarr.loc[:,['source_id','institution_id','member_id'\n",
    "                        ]].reset_index()\n",
    "df_zarr = df_zarr.rename(columns={\"source_id\": \"model\", \n",
    "                                  \"institution_id\": \"institution\", \n",
    "                                  \"member_id\": \"member\"}).iloc[:,1:4]\n",
    "df_zarr\n"
   ]
  },
  {
   "cell_type": "code",
   "execution_count": 8,
   "id": "605f7c25-2eca-41df-ae17-1191cee7be41",
   "metadata": {},
   "outputs": [],
   "source": [
    "# save table\n",
    "df_zarr.to_csv(outfile, index=False)\n"
   ]
  },
  {
   "cell_type": "code",
   "execution_count": null,
   "id": "1851495b-aeb7-49ab-8995-e9cd497d83d8",
   "metadata": {},
   "outputs": [],
   "source": []
  }
 ],
 "metadata": {
  "kernelspec": {
   "display_name": "warming_levels-env",
   "language": "python",
   "name": "warming_levels-env"
  },
  "language_info": {
   "codemirror_mode": {
    "name": "ipython",
    "version": 3
   },
   "file_extension": ".py",
   "mimetype": "text/x-python",
   "name": "python",
   "nbconvert_exporter": "python",
   "pygments_lexer": "ipython3",
   "version": "3.7.12"
  }
 },
 "nbformat": 4,
 "nbformat_minor": 5
}
