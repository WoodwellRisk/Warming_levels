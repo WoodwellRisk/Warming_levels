{
 "cells": [
  {
   "cell_type": "markdown",
   "id": "8042f5ac-e13d-4c00-a465-dd8188296361",
   "metadata": {},
   "source": [
    "# Make table of warming years from zarr data based on 21 year moving window approach"
   ]
  },
  {
   "cell_type": "code",
   "execution_count": 1,
   "id": "6d6df841-3e48-40d9-b00b-6829303afb82",
   "metadata": {},
   "outputs": [],
   "source": [
    "import pandas as pd\n",
    "import numpy as np\n",
    "from warming_years import calc_warming_years_rolling_mean\n",
    "from file_control import gmst_table_dir\n",
    "from file_control import warming_year_table_dir"
   ]
  },
  {
   "cell_type": "code",
   "execution_count": 2,
   "id": "627f0925-0072-4f7f-a6b7-37c43a9aa396",
   "metadata": {},
   "outputs": [],
   "source": [
    "# Set output filename\n",
    "outfile = warming_year_table_dir + 'warming_years_zarr_21yr_window.csv'\n",
    "\n",
    "# Import GMST data\n",
    "tab = pd.read_csv(gmst_table_dir + 'CMIP6_GMST_table_all.csv')\n",
    "\n",
    "# get all combinations of model, member, scenario\n",
    "# remove historical since those years will be included in the other scenarios\n",
    "mms = tab.loc[tab['scenario'] != 'historical', ['model','member','scenario'\n",
    "                                               ]].drop_duplicates()\n",
    "\n",
    "# set window size and warming levels\n",
    "window_size = 21\n",
    "wl = np.arange(1,4.51,.5)"
   ]
  },
  {
   "cell_type": "code",
   "execution_count": null,
   "id": "f7c974a3-fba6-42f1-b3c5-48bbdd64dd81",
   "metadata": {},
   "outputs": [
    {
     "name": "stdout",
     "output_type": "stream",
     "text": [
      "1.0\n"
     ]
    }
   ],
   "source": [
    "# calculate warming years for each warming level\n",
    "\n",
    "for i in wl:\n",
    "    print(i)\n",
    "    \n",
    "    tab1 = calc_warming_years_rolling_mean(mms, i, window_size)\n",
    "    tab1 = tab1.rename(columns={'warming_year':('Yr' + str(i))})\n",
    "    \n",
    "    if i == wl[0]:\n",
    "        outdf = tab1\n",
    "    else:\n",
    "        outdf = pd.merge(outdf, tab1, how='outer', on = ['model','member',\n",
    "                                                         'scenario'])\n",
    "\n",
    "outdf \n"
   ]
  },
  {
   "cell_type": "code",
   "execution_count": 4,
   "id": "a2bd941b-2df8-4f59-b8b6-79b1f70c0703",
   "metadata": {},
   "outputs": [],
   "source": [
    "# save the warming years table\n",
    "outdf.to_csv(outfile, index = False)"
   ]
  },
  {
   "cell_type": "code",
   "execution_count": null,
   "id": "78962ca8-4c7b-4010-aac6-40d8526061a2",
   "metadata": {},
   "outputs": [],
   "source": []
  }
 ],
 "metadata": {
  "kernelspec": {
   "display_name": "warming_levels-env",
   "language": "python",
   "name": "warming_levels-env"
  },
  "language_info": {
   "codemirror_mode": {
    "name": "ipython",
    "version": 3
   },
   "file_extension": ".py",
   "mimetype": "text/x-python",
   "name": "python",
   "nbconvert_exporter": "python",
   "pygments_lexer": "ipython3",
   "version": "3.7.12"
  }
 },
 "nbformat": 4,
 "nbformat_minor": 5
}
